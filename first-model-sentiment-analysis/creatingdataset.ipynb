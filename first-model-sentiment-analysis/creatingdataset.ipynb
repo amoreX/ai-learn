{
 "cells": [
  {
   "cell_type": "markdown",
   "id": "6a0cb3b9",
   "metadata": {},
   "source": [
    "# Getting data from Huggingface Dataset\n",
    "\n",
    "### Map through the data and put the coloumns needed in a new variable \n",
    "### Remove unwanted coloumns from new variable \n",
    "### Convert to JSONL file"
   ]
  },
  {
   "cell_type": "code",
   "execution_count": null,
   "id": "af48e4cd",
   "metadata": {},
   "outputs": [
    {
     "data": {
      "application/vnd.jupyter.widget-view+json": {
       "model_id": "fa75d5a74a834c7e8c88a77bf906f84a",
       "version_major": 2,
       "version_minor": 0
      },
      "text/plain": [
       "Creating json from Arrow format:   0%|          | 0/32 [00:00<?, ?ba/s]"
      ]
     },
     "metadata": {},
     "output_type": "display_data"
    },
    {
     "data": {
      "text/plain": [
       "4430500"
      ]
     },
     "execution_count": 1,
     "metadata": {},
     "output_type": "execute_result"
    }
   ],
   "source": [
    "from datasets import load_dataset\n",
    "dataset=load_dataset(\"Sp1786/multiclass-sentiment-analysis-dataset\",split=\"train\")\n",
    "train_data=dataset.map(lambda x:{\n",
    "    \"text\": x[\"text\"],\n",
    "    \"sentiment\":x[\"sentiment\"],\n",
    "    \"label\":x[\"label\"]\n",
    "})\n",
    "train_data=train_data.remove_columns([\"id\"])\n",
    "train_data.to_json(\"sentiment_analysis_train.jsonl\",orient=\"records\",lines=True)\n",
    "# print(train_data[0])"
   ]
  },
  {
   "cell_type": "code",
   "execution_count": 2,
   "id": "f689e5dd",
   "metadata": {
    "vscode": {
     "languageId": "javascript"
    }
   },
   "outputs": [
    {
     "data": {
      "application/vnd.jupyter.widget-view+json": {
       "model_id": "c3db0a5ac6cd4e21823adff09168d2f2",
       "version_major": 2,
       "version_minor": 0
      },
      "text/plain": [
       "Creating json from Arrow format:   0%|          | 0/6 [00:00<?, ?ba/s]"
      ]
     },
     "metadata": {},
     "output_type": "display_data"
    },
    {
     "data": {
      "text/plain": [
       "745912"
      ]
     },
     "execution_count": 2,
     "metadata": {},
     "output_type": "execute_result"
    }
   ],
   "source": [
    "dataset=load_dataset(\"Sp1786/multiclass-sentiment-analysis-dataset\",split=\"validation\")\n",
    "validation_data=dataset.map(lambda x:{\n",
    "    \"text\": x[\"text\"],\n",
    "    \"sentiment\": x[\"sentiment\"],\n",
    "    \"label\":x[\"label\"]\n",
    "})\n",
    "\n",
    "validation_data = validation_data.remove_columns([\"id\"])\n",
    "validation_data.to_json(\"sentiment_analysis_validation.jsonl\", orient = \"records\", lines = True)\n"
   ]
  },
  {
   "cell_type": "code",
   "execution_count": 3,
   "id": "9b5d8e60",
   "metadata": {
    "vscode": {
     "languageId": "javascript"
    }
   },
   "outputs": [
    {
     "data": {
      "application/vnd.jupyter.widget-view+json": {
       "model_id": "6c4e531055d0483ca0c1a235e2b887d2",
       "version_major": 2,
       "version_minor": 0
      },
      "text/plain": [
       "Creating json from Arrow format:   0%|          | 0/6 [00:00<?, ?ba/s]"
      ]
     },
     "metadata": {},
     "output_type": "display_data"
    },
    {
     "data": {
      "text/plain": [
       "730784"
      ]
     },
     "execution_count": 3,
     "metadata": {},
     "output_type": "execute_result"
    }
   ],
   "source": [
    "dataset=load_dataset(\"Sp1786/multiclass-sentiment-analysis-dataset\",split=\"test\")\n",
    "test_data=dataset.map(lambda x:{\n",
    "    \"text\": x[\"text\"],\n",
    "    \"sentiment\":x[\"sentiment\"],\n",
    "    \"label\":x[\"label\"]\n",
    "})\n",
    "test_data=test_data.remove_columns([\"id\"])\n",
    "test_data.to_json(\"sentiment_analysis_test.jsonl\",orient=\"records\",lines=True)"
   ]
  }
 ],
 "metadata": {
  "kernelspec": {
   "display_name": "Python 3",
   "language": "python",
   "name": "python3"
  },
  "language_info": {
   "codemirror_mode": {
    "name": "ipython",
    "version": 3
   },
   "file_extension": ".py",
   "mimetype": "text/x-python",
   "name": "python",
   "nbconvert_exporter": "python",
   "pygments_lexer": "ipython3",
   "version": "3.13.2"
  }
 },
 "nbformat": 4,
 "nbformat_minor": 5
}
