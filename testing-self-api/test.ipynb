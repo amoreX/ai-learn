{
 "cells": [
  {
   "cell_type": "code",
   "execution_count": 2,
   "id": "5997c69b",
   "metadata": {},
   "outputs": [
    {
     "name": "stderr",
     "output_type": "stream",
     "text": [
      "Device set to use cuda:0\n"
     ]
    }
   ],
   "source": [
    "from transformers import pipeline\n",
    "\n",
    "classifier = pipeline(\"text-classification\", model=\"amor3x/my_suicide_buddy\")"
   ]
  },
  {
   "cell_type": "code",
   "execution_count": 6,
   "id": "92208dc9",
   "metadata": {},
   "outputs": [
    {
     "name": "stdout",
     "output_type": "stream",
     "text": [
      "i feel awesome today\n",
      "{'label': 'non-suicide', 'score': 0.7417916059494019}\n"
     ]
    }
   ],
   "source": [
    "label_map = {\"NEGATIVE\": \"non-suicide\", \"POSITIVE\": \"suicide\"}\n",
    "def interpret_output(output):\n",
    "    # The output['label'] will be either 'NEGATIVE' or 'POSITIVE'\n",
    "    label = output[0]['label']\n",
    "    return {\"label\": label_map.get(label, \"Unknown\"), \"score\": output[0]['score']}\n",
    "\n",
    "prompt = input(\"How are you feeling:\")\n",
    "\n",
    "\n",
    "print(prompt)\n",
    "\n",
    "prediction = classifier(prompt)\n",
    "\n",
    "# Interpret the prediction using the label_map\n",
    "interpreted_prediction = interpret_output(prediction)\n",
    "\n",
    "# Print the result\n",
    "print(interpreted_prediction)\n"
   ]
  }
 ],
 "metadata": {
  "kernelspec": {
   "display_name": "Python 3",
   "language": "python",
   "name": "python3"
  },
  "language_info": {
   "codemirror_mode": {
    "name": "ipython",
    "version": 3
   },
   "file_extension": ".py",
   "mimetype": "text/x-python",
   "name": "python",
   "nbconvert_exporter": "python",
   "pygments_lexer": "ipython3",
   "version": "3.13.2"
  }
 },
 "nbformat": 4,
 "nbformat_minor": 5
}
