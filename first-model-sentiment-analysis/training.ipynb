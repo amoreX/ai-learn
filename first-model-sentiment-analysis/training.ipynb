{
 "cells": [
  {
   "cell_type": "markdown",
   "id": "947dc7d4",
   "metadata": {},
   "source": [
    "# Declaring Model to be used"
   ]
  },
  {
   "cell_type": "code",
   "execution_count": 1,
   "id": "54ce2f2a",
   "metadata": {},
   "outputs": [
    {
     "name": "stderr",
     "output_type": "stream",
     "text": [
      "Some weights of the model checkpoint at cardiffnlp/twitter-roberta-base-sentiment-latest were not used when initializing RobertaForSequenceClassification: ['roberta.pooler.dense.bias', 'roberta.pooler.dense.weight']\n",
      "- This IS expected if you are initializing RobertaForSequenceClassification from the checkpoint of a model trained on another task or with another architecture (e.g. initializing a BertForSequenceClassification model from a BertForPreTraining model).\n",
      "- This IS NOT expected if you are initializing RobertaForSequenceClassification from the checkpoint of a model that you expect to be exactly identical (initializing a BertForSequenceClassification model from a BertForSequenceClassification model).\n"
     ]
    }
   ],
   "source": [
    "from transformers import AutoModelForSequenceClassification,AutoTokenizer\n",
    "from transformers import pipeline\n",
    "\n",
    "model_id = \"cardiffnlp/twitter-roberta-base-sentiment-latest\"\n",
    "model = AutoModelForSequenceClassification.from_pretrained(\n",
    "    model_id,\n",
    "    num_labels=3, # number of moods i have or possible outcomes\n",
    ")"
   ]
  },
  {
   "cell_type": "markdown",
   "id": "847a55c0",
   "metadata": {},
   "source": [
    "# Importing Datasets "
   ]
  },
  {
   "cell_type": "code",
   "execution_count": 2,
   "id": "7b5b0ea8",
   "metadata": {},
   "outputs": [
    {
     "data": {
      "application/vnd.jupyter.widget-view+json": {
       "model_id": "c326b8d2dc8f40c3b931facabe3f31dc",
       "version_major": 2,
       "version_minor": 0
      },
      "text/plain": [
       "Generating train split: 0 examples [00:00, ? examples/s]"
      ]
     },
     "metadata": {},
     "output_type": "display_data"
    },
    {
     "data": {
      "application/vnd.jupyter.widget-view+json": {
       "model_id": "245d98f12ef746e29637e13c0ebbd85d",
       "version_major": 2,
       "version_minor": 0
      },
      "text/plain": [
       "Generating validation split: 0 examples [00:00, ? examples/s]"
      ]
     },
     "metadata": {},
     "output_type": "display_data"
    },
    {
     "data": {
      "application/vnd.jupyter.widget-view+json": {
       "model_id": "6871f911a24045a5a2a5aab12c1af509",
       "version_major": 2,
       "version_minor": 0
      },
      "text/plain": [
       "Generating test split: 0 examples [00:00, ? examples/s]"
      ]
     },
     "metadata": {},
     "output_type": "display_data"
    }
   ],
   "source": [
    "from datasets import load_dataset\n",
    "data_files={\n",
    "    \"train\":\"sentiment_analysis_train.jsonl\",\n",
    "    \"validation\":\"sentiment_analysis_validation.jsonl\",\n",
    "    \"test\":\"sentiment_analysis_test.jsonl\"\n",
    "}\n",
    "\n",
    "\n",
    "dataset = load_dataset(\"json\", data_files=data_files)\n"
   ]
  },
  {
   "cell_type": "code",
   "execution_count": 3,
   "id": "edf08015",
   "metadata": {},
   "outputs": [
    {
     "data": {
      "application/vnd.jupyter.widget-view+json": {
       "model_id": "e501e665694f451b9dda0b3a35927e34",
       "version_major": 2,
       "version_minor": 0
      },
      "text/plain": [
       "Filter:   0%|          | 0/5206 [00:00<?, ? examples/s]"
      ]
     },
     "metadata": {},
     "output_type": "display_data"
    }
   ],
   "source": [
    "dataset[\"test\"] = dataset[\"test\"].filter(\n",
    "    lambda example: isinstance(example[\"text\"], str) and example[\"text\"].strip() != \"\"\n",
    ")\n"
   ]
  },
  {
   "cell_type": "markdown",
   "id": "108782b9",
   "metadata": {},
   "source": [
    "# Tokenizes the Dataset to be fineTuned on by Model"
   ]
  },
  {
   "cell_type": "code",
   "execution_count": null,
   "id": "25315e5b",
   "metadata": {},
   "outputs": [
    {
     "data": {
      "application/vnd.jupyter.widget-view+json": {
       "model_id": "63b144ac65234007bf9b741f55d91a83",
       "version_major": 2,
       "version_minor": 0
      },
      "text/plain": [
       "Map:   0%|          | 0/5205 [00:00<?, ? examples/s]"
      ]
     },
     "metadata": {},
     "output_type": "display_data"
    },
    {
     "data": {
      "application/vnd.jupyter.widget-view+json": {
       "model_id": "dd208aa5aa1244a59c9582b2efb34f95",
       "version_major": 2,
       "version_minor": 0
      },
      "text/plain": [
       "Filter:   0%|          | 0/5205 [00:00<?, ? examples/s]"
      ]
     },
     "metadata": {},
     "output_type": "display_data"
    }
   ],
   "source": [
    "tokenizer = AutoTokenizer.from_pretrained(model_id)\n",
    "\n",
    "def tokenize_function(examples):\n",
    "    # Initialize a list to store tokenized results\n",
    "    tokenized_results = []\n",
    "    \n",
    "    for text in examples['text']:\n",
    "        try:\n",
    "            \n",
    "            tokenized_results.append(tokenizer(text, padding='max_length', truncation=True,max_length=32))\n",
    "        except Exception as e:\n",
    "            # Print the problematic text and continue with the next one\n",
    "            print(f\"Error tokenizing: {text} - Error: {e}\")\n",
    "            tokenized_results.append(None)  # Append None for problematic cases\n",
    "\n",
    "    # Return the tokenized results\n",
    "    return {\"input_ids\": [result['input_ids'] if result is not None else [] for result in tokenized_results],\n",
    "            \"attention_mask\": [result['attention_mask'] if result is not None else [] for result in tokenized_results]}\n",
    "\n",
    "\n",
    "tokenized_datasets = dataset.map(tokenize_function, batched=True)\n",
    "\n",
    "# Filter out any examples that were returned as empty dictionaries \n",
    "tokenized_datasets = tokenized_datasets.filter(lambda example: example != {})\n",
    "\n",
    "tokenized_datasets = tokenized_datasets.rename_columns({\"label\": \"labels\"})  # Ensure the label column is named \"labels\"\n"
   ]
  },
  {
   "cell_type": "markdown",
   "id": "5dfa0a17",
   "metadata": {},
   "source": [
    "# Setting up Trainer model with Respective Arguments"
   ]
  },
  {
   "cell_type": "markdown",
   "id": "a3b69918",
   "metadata": {},
   "source": [
    "- change num_train_epochs to get better tuned model but also more storage required , higher epochs =  better\n",
    "- train_batch and eval_batch needs to be changed at the same proportionality\n",
    "- Incase storage issue with results as it stores the checkpoints, do the following\n",
    "    - save_total_limit=1,         # keep only the last checkpoint \n",
    "    - save_strategy=\"epoch\",      # save only at the end of each epoch\n",
    "    - save_strategy=\"no\",         # not recommended unless you are debugging\n",
    "    - You can also just delete the checkpoints manually after model creation \n"
   ]
  },
  {
   "cell_type": "markdown",
   "id": "d4c26a08",
   "metadata": {},
   "source": []
  },
  {
   "cell_type": "code",
   "execution_count": null,
   "id": "512fdf35",
   "metadata": {},
   "outputs": [],
   "source": [
    "from transformers import Trainer, TrainingArguments\n",
    "\n",
    "# Set training arguments\n",
    "training_args = TrainingArguments(\n",
    "    output_dir=\"./results\",          # output directory for model checkpoints\n",
    "    # evaluation_strategy=\"epoch\",     # evaluation strategy to use\n",
    "    learning_rate=2e-5,              # learning rate\n",
    "    per_device_train_batch_size=4,   # batch size per device during training\n",
    "    per_device_eval_batch_size=8,   # batch size for evaluation\n",
    "    num_train_epochs=1,              # number of training epochs\n",
    "    weight_decay=0.01,               # strength of weight decay\n",
    "    logging_dir=\"./logs\",            \n",
    "    \n",
    ")\n",
    "\n",
    "# Define the Trainer\n",
    "trainer = Trainer(\n",
    "    model=model,                         \n",
    "    args=training_args,                  \n",
    "    train_dataset=tokenized_datasets[\"train\"],  \n",
    "    eval_dataset=tokenized_datasets[\"validation\"],  \n",
    ")\n"
   ]
  },
  {
   "cell_type": "code",
   "execution_count": 39,
   "id": "11f1d35f",
   "metadata": {},
   "outputs": [
    {
     "data": {
      "text/html": [
       "\n",
       "    <div>\n",
       "      \n",
       "      <progress value='7808' max='7808' style='width:300px; height:20px; vertical-align: middle;'></progress>\n",
       "      [7808/7808 12:46, Epoch 1/1]\n",
       "    </div>\n",
       "    <table border=\"1\" class=\"dataframe\">\n",
       "  <thead>\n",
       " <tr style=\"text-align: left;\">\n",
       "      <th>Step</th>\n",
       "      <th>Training Loss</th>\n",
       "    </tr>\n",
       "  </thead>\n",
       "  <tbody>\n",
       "    <tr>\n",
       "      <td>500</td>\n",
       "      <td>0.376400</td>\n",
       "    </tr>\n",
       "    <tr>\n",
       "      <td>1000</td>\n",
       "      <td>0.334600</td>\n",
       "    </tr>\n",
       "    <tr>\n",
       "      <td>1500</td>\n",
       "      <td>0.332700</td>\n",
       "    </tr>\n",
       "    <tr>\n",
       "      <td>2000</td>\n",
       "      <td>0.731500</td>\n",
       "    </tr>\n",
       "    <tr>\n",
       "      <td>2500</td>\n",
       "      <td>0.633100</td>\n",
       "    </tr>\n",
       "    <tr>\n",
       "      <td>3000</td>\n",
       "      <td>0.637700</td>\n",
       "    </tr>\n",
       "    <tr>\n",
       "      <td>3500</td>\n",
       "      <td>0.661100</td>\n",
       "    </tr>\n",
       "    <tr>\n",
       "      <td>4000</td>\n",
       "      <td>0.602100</td>\n",
       "    </tr>\n",
       "    <tr>\n",
       "      <td>4500</td>\n",
       "      <td>0.574400</td>\n",
       "    </tr>\n",
       "    <tr>\n",
       "      <td>5000</td>\n",
       "      <td>0.579200</td>\n",
       "    </tr>\n",
       "    <tr>\n",
       "      <td>5500</td>\n",
       "      <td>0.590500</td>\n",
       "    </tr>\n",
       "    <tr>\n",
       "      <td>6000</td>\n",
       "      <td>0.599500</td>\n",
       "    </tr>\n",
       "    <tr>\n",
       "      <td>6500</td>\n",
       "      <td>0.550500</td>\n",
       "    </tr>\n",
       "    <tr>\n",
       "      <td>7000</td>\n",
       "      <td>0.595400</td>\n",
       "    </tr>\n",
       "    <tr>\n",
       "      <td>7500</td>\n",
       "      <td>0.535200</td>\n",
       "    </tr>\n",
       "  </tbody>\n",
       "</table><p>"
      ],
      "text/plain": [
       "<IPython.core.display.HTML object>"
      ]
     },
     "metadata": {},
     "output_type": "display_data"
    },
    {
     "data": {
      "text/plain": [
       "TrainOutput(global_step=7808, training_loss=0.5596007225943394, metrics={'train_runtime': 766.1117, 'train_samples_per_second': 40.767, 'train_steps_per_second': 10.192, 'total_flos': 513597391405056.0, 'train_loss': 0.5596007225943394, 'epoch': 1.0})"
      ]
     },
     "execution_count": 39,
     "metadata": {},
     "output_type": "execute_result"
    }
   ],
   "source": [
    "trainer.train()"
   ]
  },
  {
   "cell_type": "code",
   "execution_count": 6,
   "id": "63614ab6",
   "metadata": {},
   "outputs": [
    {
     "data": {
      "text/html": [
       "\n",
       "    <div>\n",
       "      \n",
       "      <progress value='1302' max='651' style='width:300px; height:20px; vertical-align: middle;'></progress>\n",
       "      [651/651 00:21]\n",
       "    </div>\n",
       "    "
      ],
      "text/plain": [
       "<IPython.core.display.HTML object>"
      ]
     },
     "metadata": {},
     "output_type": "display_data"
    },
    {
     "data": {
      "text/plain": [
       "{'eval_loss': 0.7458823323249817,\n",
       " 'eval_model_preparation_time': 0.0029,\n",
       " 'eval_runtime': 10.6627,\n",
       " 'eval_samples_per_second': 488.149,\n",
       " 'eval_steps_per_second': 61.054}"
      ]
     },
     "execution_count": 6,
     "metadata": {},
     "output_type": "execute_result"
    }
   ],
   "source": [
    "trainer.evaluate(tokenized_datasets[\"validation\"])"
   ]
  },
  {
   "cell_type": "code",
   "execution_count": 7,
   "id": "04b06e0d",
   "metadata": {},
   "outputs": [
    {
     "data": {
      "text/plain": [
       "{'eval_loss': 0.7410308718681335,\n",
       " 'eval_model_preparation_time': 0.0029,\n",
       " 'eval_runtime': 10.6851,\n",
       " 'eval_samples_per_second': 487.129,\n",
       " 'eval_steps_per_second': 60.926}"
      ]
     },
     "execution_count": 7,
     "metadata": {},
     "output_type": "execute_result"
    }
   ],
   "source": [
    "trainer.evaluate(tokenized_datasets[\"test\"])"
   ]
  },
  {
   "cell_type": "markdown",
   "id": "19701013",
   "metadata": {},
   "source": [
    "# Saving Model for later use via pipelines"
   ]
  },
  {
   "cell_type": "code",
   "execution_count": 48,
   "id": "370cf392",
   "metadata": {},
   "outputs": [
    {
     "data": {
      "text/plain": [
       "('my_sentiment_model/tokenizer_config.json',\n",
       " 'my_sentiment_model/special_tokens_map.json',\n",
       " 'my_sentiment_model/vocab.json',\n",
       " 'my_sentiment_model/merges.txt',\n",
       " 'my_sentiment_model/added_tokens.json',\n",
       " 'my_sentiment_model/tokenizer.json')"
      ]
     },
     "execution_count": 48,
     "metadata": {},
     "output_type": "execute_result"
    }
   ],
   "source": [
    "trainer.save_model(\"my_sentiment_model\")\n",
    "tokenizer.save_pretrained(\"my_sentiment_model\")\n"
   ]
  },
  {
   "cell_type": "markdown",
   "id": "420e7c37",
   "metadata": {},
   "source": [
    "# Using created Model via Pipeline"
   ]
  },
  {
   "cell_type": "code",
   "execution_count": 8,
   "id": "8c71dff0",
   "metadata": {},
   "outputs": [
    {
     "name": "stderr",
     "output_type": "stream",
     "text": [
      "Device set to use cuda:0\n"
     ]
    },
    {
     "name": "stdout",
     "output_type": "stream",
     "text": [
      "i wonder how my test will go\n",
      "[{'label': 'neutral', 'score': 0.9947810769081116}]\n"
     ]
    }
   ],
   "source": [
    "from transformers import pipeline\n",
    "\n",
    "pipe = pipeline(\"text-classification\", model=\"my_sentiment_model\", tokenizer=tokenizer)\n",
    "prompt=input(\"Enter text to check sentiment of :\")\n",
    "print(prompt)\n",
    "print(pipe(prompt))\n"
   ]
  }
 ],
 "metadata": {
  "kernelspec": {
   "display_name": "Python 3",
   "language": "python",
   "name": "python3"
  },
  "language_info": {
   "codemirror_mode": {
    "name": "ipython",
    "version": 3
   },
   "file_extension": ".py",
   "mimetype": "text/x-python",
   "name": "python",
   "nbconvert_exporter": "python",
   "pygments_lexer": "ipython3",
   "version": "3.13.2"
  }
 },
 "nbformat": 4,
 "nbformat_minor": 5
}
