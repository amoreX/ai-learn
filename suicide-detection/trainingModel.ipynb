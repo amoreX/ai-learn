{
 "cells": [
  {
   "cell_type": "code",
   "execution_count": 2,
   "id": "0f5c79f7",
   "metadata": {},
   "outputs": [],
   "source": [
    "from transformers import AutoModelForSequenceClassification,AutoTokenizer\n",
    "from transformers import pipeline\n",
    "\n",
    "model_id = \"distilbert/distilbert-base-uncased-finetuned-sst-2-english\"\n",
    "model = AutoModelForSequenceClassification.from_pretrained(\n",
    "    model_id,\n",
    "    num_labels=2, # number of  possible outcomes\n",
    ")"
   ]
  },
  {
   "cell_type": "code",
   "execution_count": 3,
   "id": "b65ac5fe",
   "metadata": {},
   "outputs": [],
   "source": [
    "from datasets import load_dataset\n",
    "data_files={\n",
    "    \"train\":\"datasets/train.jsonl\",\n",
    "    \"validation\":\"datasets/val.jsonl\",\n",
    "    \"test\":\"datasets/test.jsonl\"\n",
    "}\n",
    "\n",
    "\n",
    "dataset = load_dataset(\"json\", data_files=data_files)\n"
   ]
  },
  {
   "cell_type": "code",
   "execution_count": 4,
   "id": "f32649c2",
   "metadata": {},
   "outputs": [],
   "source": [
    "dataset[\"test\"] = dataset[\"test\"].filter(\n",
    "    lambda example: isinstance(example[\"text\"], str) and example[\"text\"].strip() != \"\"\n",
    ")\n"
   ]
  },
  {
   "cell_type": "markdown",
   "id": "e22d3cc0",
   "metadata": {},
   "source": [
    "# Label Ouputs as Labels"
   ]
  },
  {
   "cell_type": "code",
   "execution_count": 14,
   "id": "f50b839b",
   "metadata": {},
   "outputs": [
    {
     "data": {
      "application/vnd.jupyter.widget-view+json": {
       "model_id": "f3bc7fd56be048cf96dd89675f0da8bd",
       "version_major": 2,
       "version_minor": 0
      },
      "text/plain": [
       "Map:   0%|          | 0/7102 [00:00<?, ? examples/s]"
      ]
     },
     "metadata": {},
     "output_type": "display_data"
    },
    {
     "data": {
      "application/vnd.jupyter.widget-view+json": {
       "model_id": "a9117a44ebd8432f9374826e35bd2c2e",
       "version_major": 2,
       "version_minor": 0
      },
      "text/plain": [
       "Map:   0%|          | 0/887 [00:00<?, ? examples/s]"
      ]
     },
     "metadata": {},
     "output_type": "display_data"
    },
    {
     "data": {
      "application/vnd.jupyter.widget-view+json": {
       "model_id": "28be7a52c376487c882178aab44cf5f4",
       "version_major": 2,
       "version_minor": 0
      },
      "text/plain": [
       "Map:   0%|          | 0/889 [00:00<?, ? examples/s]"
      ]
     },
     "metadata": {},
     "output_type": "display_data"
    }
   ],
   "source": [
    "label_map = {\"non-suicide\": 0, \"suicide\": 1}\n",
    "\n",
    "def encode_labels(example):\n",
    "    if example.get(\"class\") in label_map:\n",
    "        example[\"label\"] = label_map[example[\"class\"]]\n",
    "    else:\n",
    "        # Skip or assign a default, or log it\n",
    "        example[\"label\"] = -1  # Optional: handle as an unknown class\n",
    "    return example\n",
    "\n",
    "for split in [\"train\", \"validation\",\"test\"]:\n",
    "    dataset[split] = dataset[split].map(encode_labels)\n"
   ]
  },
  {
   "cell_type": "code",
   "execution_count": 15,
   "id": "b342cb71",
   "metadata": {},
   "outputs": [
    {
     "name": "stdout",
     "output_type": "stream",
     "text": [
      "DatasetDict({\n",
      "    train: Dataset({\n",
      "        features: ['id', 'text', 'class', 'label'],\n",
      "        num_rows: 7102\n",
      "    })\n",
      "    validation: Dataset({\n",
      "        features: ['id', 'text', 'class', 'label'],\n",
      "        num_rows: 887\n",
      "    })\n",
      "    test: Dataset({\n",
      "        features: ['id', 'text', 'class', 'label'],\n",
      "        num_rows: 889\n",
      "    })\n",
      "})\n",
      "{'id': Value(dtype='string', id=None), 'text': Value(dtype='string', id=None), 'class': Value(dtype='string', id=None), 'label': Value(dtype='int64', id=None)}\n"
     ]
    }
   ],
   "source": [
    "print(dataset)\n",
    "print(dataset[\"test\"].features)"
   ]
  },
  {
   "cell_type": "markdown",
   "id": "69f1ac95",
   "metadata": {},
   "source": [
    "# Get rid of empty strings "
   ]
  },
  {
   "cell_type": "code",
   "execution_count": 30,
   "id": "a57fe427",
   "metadata": {},
   "outputs": [
    {
     "data": {
      "application/vnd.jupyter.widget-view+json": {
       "model_id": "c4e3fa3ee9494b1fba3bb3c948abd681",
       "version_major": 2,
       "version_minor": 0
      },
      "text/plain": [
       "Filter:   0%|          | 0/7102 [00:00<?, ? examples/s]"
      ]
     },
     "metadata": {},
     "output_type": "display_data"
    },
    {
     "data": {
      "application/vnd.jupyter.widget-view+json": {
       "model_id": "7d6439a662fd4450b8bdd07c25c3a588",
       "version_major": 2,
       "version_minor": 0
      },
      "text/plain": [
       "Filter:   0%|          | 0/887 [00:00<?, ? examples/s]"
      ]
     },
     "metadata": {},
     "output_type": "display_data"
    },
    {
     "data": {
      "application/vnd.jupyter.widget-view+json": {
       "model_id": "2793bea09f0f4bab94937096f67c1752",
       "version_major": 2,
       "version_minor": 0
      },
      "text/plain": [
       "Filter:   0%|          | 0/889 [00:00<?, ? examples/s]"
      ]
     },
     "metadata": {},
     "output_type": "display_data"
    }
   ],
   "source": [
    "def is_not_empty(example):\n",
    "    text = example.get(\"text\", \"\")  # Safely get \"text\", defaulting to empty string if it's missing or None\n",
    "    return isinstance(text, str) and text.strip() != \"\"\n",
    "\n",
    "for split in [\"train\", \"validation\", \"test\"]:\n",
    "    dataset[split] = dataset[split].filter(is_not_empty)\n",
    "\n",
    "\n"
   ]
  },
  {
   "cell_type": "code",
   "execution_count": 31,
   "id": "045d54f8",
   "metadata": {},
   "outputs": [
    {
     "data": {
      "application/vnd.jupyter.widget-view+json": {
       "model_id": "3ca93c5b3fa64560b14e4d174f6df8b3",
       "version_major": 2,
       "version_minor": 0
      },
      "text/plain": [
       "Map:   0%|          | 0/7100 [00:00<?, ? examples/s]"
      ]
     },
     "metadata": {},
     "output_type": "display_data"
    },
    {
     "data": {
      "application/vnd.jupyter.widget-view+json": {
       "model_id": "565fc40d0e4d4a2895887b6df7e79fa8",
       "version_major": 2,
       "version_minor": 0
      },
      "text/plain": [
       "Map:   0%|          | 0/887 [00:00<?, ? examples/s]"
      ]
     },
     "metadata": {},
     "output_type": "display_data"
    },
    {
     "data": {
      "application/vnd.jupyter.widget-view+json": {
       "model_id": "8f5ec0f48b4245ff99093475845de44a",
       "version_major": 2,
       "version_minor": 0
      },
      "text/plain": [
       "Map:   0%|          | 0/889 [00:00<?, ? examples/s]"
      ]
     },
     "metadata": {},
     "output_type": "display_data"
    },
    {
     "data": {
      "application/vnd.jupyter.widget-view+json": {
       "model_id": "234c545c5953475a9911ed871979fcaf",
       "version_major": 2,
       "version_minor": 0
      },
      "text/plain": [
       "Filter:   0%|          | 0/7100 [00:00<?, ? examples/s]"
      ]
     },
     "metadata": {},
     "output_type": "display_data"
    },
    {
     "data": {
      "application/vnd.jupyter.widget-view+json": {
       "model_id": "bc8412bfd58a498aa69ecb8e1f31b971",
       "version_major": 2,
       "version_minor": 0
      },
      "text/plain": [
       "Filter:   0%|          | 0/887 [00:00<?, ? examples/s]"
      ]
     },
     "metadata": {},
     "output_type": "display_data"
    },
    {
     "data": {
      "application/vnd.jupyter.widget-view+json": {
       "model_id": "de6b2c7a1e4441e59b9b8ea756bcb526",
       "version_major": 2,
       "version_minor": 0
      },
      "text/plain": [
       "Filter:   0%|          | 0/889 [00:00<?, ? examples/s]"
      ]
     },
     "metadata": {},
     "output_type": "display_data"
    }
   ],
   "source": [
    "tokenizer = AutoTokenizer.from_pretrained(model_id)\n",
    "\n",
    "def tokenize_function(examples):\n",
    "    # Initialize a list to store tokenized results\n",
    "    tokenized_results = []\n",
    "    \n",
    "    for text in examples['text']:\n",
    "        try:\n",
    "            \n",
    "            tokenized_results.append(tokenizer(text, padding='max_length', truncation=True,max_length=32))\n",
    "        except Exception as e:\n",
    "            # Print the problematic text and continue with the next one\n",
    "            print(f\"Error tokenizing: {text} - Error: {e}\")\n",
    "            tokenized_results.append(None)  # Append None for problematic cases\n",
    "\n",
    "    # Return the tokenized results\n",
    "    return {\"input_ids\": [result['input_ids'] if result is not None else [] for result in tokenized_results],\n",
    "            \"attention_mask\": [result['attention_mask'] if result is not None else [] for result in tokenized_results]}\n",
    "\n",
    "\n",
    "tokenized_datasets = dataset.map(tokenize_function, batched=True)\n",
    "\n",
    "# Filter out any examples that were returned as empty dictionaries \n",
    "tokenized_datasets = tokenized_datasets.filter(lambda example: example != {})\n",
    "\n",
    "tokenized_datasets = tokenized_datasets.rename_columns({\"label\": \"labels\"})  # Ensure the label column is named \"labels\"\n"
   ]
  },
  {
   "cell_type": "code",
   "execution_count": 32,
   "id": "3df02488",
   "metadata": {},
   "outputs": [],
   "source": [
    "from transformers import Trainer, TrainingArguments\n",
    "\n",
    "# Set training arguments\n",
    "training_args = TrainingArguments(\n",
    "    output_dir=\"./results\",          # output directory for model checkpoints\n",
    "    # evaluation_strategy=\"epoch\",     # evaluation strategy to use\n",
    "    learning_rate=2e-5,              # learning rate\n",
    "    per_device_train_batch_size=4,   # batch size per device during training\n",
    "    per_device_eval_batch_size=8,   # batch size for evaluation\n",
    "    num_train_epochs=1,              # number of training epochs\n",
    "    weight_decay=0.01,               # strength of weight decay\n",
    "    logging_dir=\"./logs\",            \n",
    "    \n",
    ")\n",
    "\n",
    "# Define the Trainer\n",
    "trainer = Trainer(\n",
    "    model=model,                         \n",
    "    args=training_args,                  \n",
    "    train_dataset=tokenized_datasets[\"train\"],  \n",
    "    eval_dataset=tokenized_datasets[\"validation\"],  \n",
    ")\n"
   ]
  },
  {
   "cell_type": "code",
   "execution_count": 33,
   "id": "e15558af",
   "metadata": {},
   "outputs": [
    {
     "data": {
      "text/html": [
       "\n",
       "    <div>\n",
       "      \n",
       "      <progress value='1775' max='1775' style='width:300px; height:20px; vertical-align: middle;'></progress>\n",
       "      [1775/1775 01:46, Epoch 1/1]\n",
       "    </div>\n",
       "    <table border=\"1\" class=\"dataframe\">\n",
       "  <thead>\n",
       " <tr style=\"text-align: left;\">\n",
       "      <th>Step</th>\n",
       "      <th>Training Loss</th>\n",
       "    </tr>\n",
       "  </thead>\n",
       "  <tbody>\n",
       "    <tr>\n",
       "      <td>500</td>\n",
       "      <td>0.387600</td>\n",
       "    </tr>\n",
       "    <tr>\n",
       "      <td>1000</td>\n",
       "      <td>0.304600</td>\n",
       "    </tr>\n",
       "    <tr>\n",
       "      <td>1500</td>\n",
       "      <td>0.284400</td>\n",
       "    </tr>\n",
       "  </tbody>\n",
       "</table><p>"
      ],
      "text/plain": [
       "<IPython.core.display.HTML object>"
      ]
     },
     "metadata": {},
     "output_type": "display_data"
    },
    {
     "data": {
      "text/plain": [
       "TrainOutput(global_step=1775, training_loss=0.31353918800891284, metrics={'train_runtime': 106.6185, 'train_samples_per_second': 66.593, 'train_steps_per_second': 16.648, 'total_flos': 58782408153600.0, 'train_loss': 0.31353918800891284, 'epoch': 1.0})"
      ]
     },
     "execution_count": 33,
     "metadata": {},
     "output_type": "execute_result"
    }
   ],
   "source": [
    "trainer.train()"
   ]
  },
  {
   "cell_type": "code",
   "execution_count": 34,
   "id": "0ccef657",
   "metadata": {},
   "outputs": [
    {
     "data": {
      "text/html": [
       "\n",
       "    <div>\n",
       "      \n",
       "      <progress value='223' max='111' style='width:300px; height:20px; vertical-align: middle;'></progress>\n",
       "      [111/111 00:11]\n",
       "    </div>\n",
       "    "
      ],
      "text/plain": [
       "<IPython.core.display.HTML object>"
      ]
     },
     "metadata": {},
     "output_type": "display_data"
    },
    {
     "data": {
      "text/plain": [
       "{'eval_loss': 0.3800152838230133,\n",
       " 'eval_runtime': 0.9903,\n",
       " 'eval_samples_per_second': 895.692,\n",
       " 'eval_steps_per_second': 112.088,\n",
       " 'epoch': 1.0}"
      ]
     },
     "execution_count": 34,
     "metadata": {},
     "output_type": "execute_result"
    }
   ],
   "source": [
    "trainer.evaluate(tokenized_datasets[\"validation\"])"
   ]
  },
  {
   "cell_type": "code",
   "execution_count": 35,
   "id": "30665f14",
   "metadata": {},
   "outputs": [
    {
     "data": {
      "text/plain": [
       "{'eval_loss': 0.3205277621746063,\n",
       " 'eval_runtime': 1.0402,\n",
       " 'eval_samples_per_second': 854.614,\n",
       " 'eval_steps_per_second': 107.668,\n",
       " 'epoch': 1.0}"
      ]
     },
     "execution_count": 35,
     "metadata": {},
     "output_type": "execute_result"
    }
   ],
   "source": [
    "trainer.evaluate(tokenized_datasets[\"test\"])"
   ]
  },
  {
   "cell_type": "code",
   "execution_count": 36,
   "id": "3c9063ee",
   "metadata": {},
   "outputs": [
    {
     "data": {
      "text/plain": [
       "('my_suicide_buddy/tokenizer_config.json',\n",
       " 'my_suicide_buddy/special_tokens_map.json',\n",
       " 'my_suicide_buddy/vocab.txt',\n",
       " 'my_suicide_buddy/added_tokens.json',\n",
       " 'my_suicide_buddy/tokenizer.json')"
      ]
     },
     "execution_count": 36,
     "metadata": {},
     "output_type": "execute_result"
    }
   ],
   "source": [
    "trainer.save_model(\"my_suicide_buddy\")\n",
    "tokenizer.save_pretrained(\"my_suicide_buddy\")\n"
   ]
  },
  {
   "cell_type": "markdown",
   "id": "83bdd752",
   "metadata": {},
   "source": [
    "# ReLabel Labels back to Designated Output Choice"
   ]
  },
  {
   "cell_type": "code",
   "execution_count": 43,
   "id": "c55a38f3",
   "metadata": {},
   "outputs": [
    {
     "name": "stderr",
     "output_type": "stream",
     "text": [
      "Device set to use cuda:0\n"
     ]
    },
    {
     "name": "stdout",
     "output_type": "stream",
     "text": [
      "i am feelign really stresesd i might do something to my self\n",
      "{'label': 'suicide', 'score': 0.9840261936187744}\n"
     ]
    }
   ],
   "source": [
    "from transformers import pipeline\n",
    "\n",
    "# Define the label map to map \"NEGATIVE\" and \"POSITIVE\" to your original labels\n",
    "label_map = {\"NEGATIVE\": \"non-suicide\", \"POSITIVE\": \"suicide\"}\n",
    "\n",
    "# Load the model and tokenizer\n",
    "pipe_budy = pipeline(\"text-classification\", model=\"my_suicide_buddy\", tokenizer=tokenizer)\n",
    "\n",
    "# Define the function to interpret the output\n",
    "def interpret_output(output):\n",
    "    # The output['label'] will be either 'NEGATIVE' or 'POSITIVE'\n",
    "    label = output[0]['label']\n",
    "    return {\"label\": label_map.get(label, \"Unknown\"), \"score\": output[0]['score']}\n",
    "\n",
    "# Take input from the user\n",
    "prompt = input(\"How are you feeling:\")\n",
    "\n",
    "# Print the prompt\n",
    "print(prompt)\n",
    "\n",
    "# Get the prediction and interpret it\n",
    "prediction = pipe_budy(prompt)\n",
    "\n",
    "# Interpret the prediction using the label_map\n",
    "interpreted_prediction = interpret_output(prediction)\n",
    "\n",
    "# Print the result\n",
    "print(interpreted_prediction)\n"
   ]
  }
 ],
 "metadata": {
  "kernelspec": {
   "display_name": "Python 3",
   "language": "python",
   "name": "python3"
  },
  "language_info": {
   "codemirror_mode": {
    "name": "ipython",
    "version": 3
   },
   "file_extension": ".py",
   "mimetype": "text/x-python",
   "name": "python",
   "nbconvert_exporter": "python",
   "pygments_lexer": "ipython3",
   "version": "3.13.2"
  }
 },
 "nbformat": 4,
 "nbformat_minor": 5
}
